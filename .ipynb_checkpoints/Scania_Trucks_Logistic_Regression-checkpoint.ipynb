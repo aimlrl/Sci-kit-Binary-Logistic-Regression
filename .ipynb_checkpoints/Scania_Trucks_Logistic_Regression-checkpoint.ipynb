{
 "cells": [
  {
   "cell_type": "code",
   "execution_count": 16,
   "metadata": {},
   "outputs": [],
   "source": [
    "import pandas as pd\n",
    "import numpy as np\n",
    "from sklearn.impute import SimpleImputer\n",
    "import matplotlib.pyplot as plt\n",
    "import seaborn as sns\n",
    "from Rashtriya_Raksha_University_Gaussian_NB import rru_gaussian_nb\n",
    "from imblearn.over_sampling import SMOTE\n",
    "from sklearn.linear_model import L\n",
    "from sklearn.metrics import accuracy_score,precision_score,recall_score"
   ]
  },
  {
   "cell_type": "code",
   "execution_count": 17,
   "metadata": {},
   "outputs": [],
   "source": [
    "class rru_gaussian_nb_scania(rru_gaussian_nb):\n",
    "    \n",
    "    def __init__(xerox_copy,data,non_missing_threshold,split_ratio,apply_pca_or_not,n_principal_components):\n",
    "        \n",
    "        data.replace(to_replace='na',value=np.nan,inplace=True)\n",
    "        \n",
    "        data.dropna(axis=1,inplace=True,thresh=int(non_missing_threshold*data.shape[0]))\n",
    "        \n",
    "        data_labels = data['class']\n",
    "        \n",
    "        imputer = SimpleImputer()\n",
    "        \n",
    "        data_array = imputer.fit_transform(X=data.iloc[:,1:])\n",
    "        \n",
    "        data_columns = data.columns\n",
    "        \n",
    "        data = pd.DataFrame(data=data_array,columns=data_columns[1:])\n",
    "        \n",
    "        np_array_list = list()\n",
    "        \n",
    "        for column in data.columns:\n",
    "    \n",
    "            data[column] = pd.qcut(x=data[column],q=10,duplicates='drop').cat.codes\n",
    "        \n",
    "            np_array_list.append(np.eye(10,10)[data[column]])\n",
    "            \n",
    "        data_array = np.concatenate(np_array_list,axis=1)\n",
    "        \n",
    "        data = pd.DataFrame(data=data_array)\n",
    "\n",
    "        data['class'] = data_labels\n",
    "        \n",
    "        xerox_copy.data = data\n",
    "        \n",
    "        super().__init__(features=data.iloc[:,0:data.shape[1]-1],labels=data['class'],data_split_ratio=split_ratio,\n",
    "                         apply_pca=apply_pca_or_not,n_components=n_principal_components)"
   ]
  },
  {
   "cell_type": "code",
   "execution_count": 18,
   "metadata": {},
   "outputs": [
    {
     "name": "stderr",
     "output_type": "stream",
     "text": [
      "C:\\Users\\Public\\anaconda3\\lib\\site-packages\\IPython\\core\\interactiveshell.py:3146: DtypeWarning: Columns (1) have mixed types.Specify dtype option on import or set low_memory=False.\n",
      "  has_raised = await self.run_ast_nodes(code_ast.body, cell_name,\n"
     ]
    }
   ],
   "source": [
    "data = pd.read_csv(\"./aps_failure_training_set.csv\",header=None,skiprows=20)"
   ]
  },
  {
   "cell_type": "code",
   "execution_count": 19,
   "metadata": {},
   "outputs": [],
   "source": [
    "column_names = data.iloc[0]\n",
    "\n",
    "data = pd.read_csv(\"./aps_failure_training_set.csv\",header=None,skiprows=21,names=column_names)"
   ]
  },
  {
   "cell_type": "code",
   "execution_count": 20,
   "metadata": {},
   "outputs": [],
   "source": [
    "naive_bayes_configs = dict()\n",
    "\n",
    "for non_na_thresh in np.arange(0.7,1,0.1):\n",
    "    \n",
    "    for n_comp in np.arange(20,170,50):\n",
    "        \n",
    "        naive_bayes_configs[(non_na_thresh,n_comp)] = rru_gaussian_nb_scania(data,non_na_thresh,(0.8,0.2,0.0),True,n_comp)"
   ]
  },
  {
   "cell_type": "code",
   "execution_count": 21,
   "metadata": {},
   "outputs": [
    {
     "data": {
      "text/plain": [
       "{(0.7, 20): <__main__.rru_gaussian_nb_scania at 0x1c1e48de340>,\n",
       " (0.7, 70): <__main__.rru_gaussian_nb_scania at 0x1c1e48deac0>,\n",
       " (0.7, 120): <__main__.rru_gaussian_nb_scania at 0x1c1e48de2b0>,\n",
       " (0.7999999999999999, 20): <__main__.rru_gaussian_nb_scania at 0x1c1e48de5e0>,\n",
       " (0.7999999999999999, 70): <__main__.rru_gaussian_nb_scania at 0x1c1e48de5b0>,\n",
       " (0.7999999999999999, 120): <__main__.rru_gaussian_nb_scania at 0x1c1c00d5400>,\n",
       " (0.8999999999999999, 20): <__main__.rru_gaussian_nb_scania at 0x1c1f26cd0d0>,\n",
       " (0.8999999999999999, 70): <__main__.rru_gaussian_nb_scania at 0x1c1f26cd820>,\n",
       " (0.8999999999999999, 120): <__main__.rru_gaussian_nb_scania at 0x1c1e48de430>,\n",
       " (0.9999999999999999, 20): <__main__.rru_gaussian_nb_scania at 0x1c1e51ec8b0>,\n",
       " (0.9999999999999999, 70): <__main__.rru_gaussian_nb_scania at 0x1c1e5090b20>,\n",
       " (0.9999999999999999, 120): <__main__.rru_gaussian_nb_scania at 0x1c1e5090c70>}"
      ]
     },
     "execution_count": 21,
     "metadata": {},
     "output_type": "execute_result"
    }
   ],
   "source": [
    "naive_bayes_configs"
   ]
  },
  {
   "cell_type": "code",
   "execution_count": 22,
   "metadata": {},
   "outputs": [],
   "source": [
    "naive_bayes = list()\n",
    "\n",
    "cv_data_list = list()\n",
    "\n",
    "for obj in naive_bayes_configs.values():\n",
    "    \n",
    "    X_resampled,y_resampled = SMOTE(sampling_strategy='minority').fit_sample(X=obj.X_new,y=data['class'])\n",
    "    \n",
    "    data_resampled = pd.DataFrame(data=X_resampled)\n",
    "    \n",
    "    data_resampled['class'] = data['class']\n",
    "    \n",
    "    train_data,cv_data,test_data = obj.data_splitting(data_resampled)\n",
    "    \n",
    "    cv_data_list.append(cv_data)\n",
    "    \n",
    "    naive_bayes.append(GaussianNB().fit(X=np.array(train_data.iloc[:,0:train_data.shape[1]-1]),y=train_data['label']))"
   ]
  },
  {
   "cell_type": "code",
   "execution_count": 23,
   "metadata": {},
   "outputs": [],
   "source": [
    "metrics = dict()\n",
    "\n",
    "for obj,cv_data,config in tuple(zip(naive_bayes,cv_data_list,naive_bayes_configs.keys())):\n",
    "    \n",
    "    predicted_category = obj.predict(X=np.array(cv_data.iloc[:,0:cv_data.shape[1]-1]))\n",
    "    \n",
    "    acc = accuracy_score(y_true=np.array(cv_data['label']),y_pred=predicted_category)\n",
    "    \n",
    "    metrics[config] = {'acc':acc}"
   ]
  },
  {
   "cell_type": "code",
   "execution_count": 24,
   "metadata": {},
   "outputs": [
    {
     "data": {
      "text/plain": [
       "{(0.7, 20): {'acc': 0.9361016949152542},\n",
       " (0.7, 70): {'acc': 0.9513559322033899},\n",
       " (0.7, 120): {'acc': 0.9513559322033899},\n",
       " (0.7999999999999999, 20): {'acc': 0.9408474576271186},\n",
       " (0.7999999999999999, 70): {'acc': 0.9533898305084746},\n",
       " (0.7999999999999999, 120): {'acc': 0.956864406779661},\n",
       " (0.8999999999999999, 20): {'acc': 0.9374576271186441},\n",
       " (0.8999999999999999, 70): {'acc': 0.9509322033898305},\n",
       " (0.8999999999999999, 120): {'acc': 0.9536440677966102},\n",
       " (0.9999999999999999, 20): {'acc': 0.9141525423728813},\n",
       " (0.9999999999999999, 70): {'acc': 0.9141525423728813},\n",
       " (0.9999999999999999, 120): {'acc': 0.9141525423728813}}"
      ]
     },
     "execution_count": 24,
     "metadata": {},
     "output_type": "execute_result"
    }
   ],
   "source": [
    "metrics"
   ]
  },
  {
   "cell_type": "code",
   "execution_count": null,
   "metadata": {},
   "outputs": [],
   "source": []
  }
 ],
 "metadata": {
  "kernelspec": {
   "display_name": "Python 3",
   "language": "python",
   "name": "python3"
  },
  "language_info": {
   "codemirror_mode": {
    "name": "ipython",
    "version": 3
   },
   "file_extension": ".py",
   "mimetype": "text/x-python",
   "name": "python",
   "nbconvert_exporter": "python",
   "pygments_lexer": "ipython3",
   "version": "3.8.5"
  }
 },
 "nbformat": 4,
 "nbformat_minor": 4
}
